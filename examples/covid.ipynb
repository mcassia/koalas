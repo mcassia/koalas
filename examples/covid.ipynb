{
 "cells": [
  {
   "cell_type": "code",
   "execution_count": 1,
   "metadata": {},
   "outputs": [],
   "source": [
    "import sys\n",
    "sys.path.append('../koalas/')"
   ]
  },
  {
   "cell_type": "code",
   "execution_count": 2,
   "metadata": {},
   "outputs": [],
   "source": [
    "from koalas import DataFrame"
   ]
  },
  {
   "cell_type": "code",
   "execution_count": 3,
   "metadata": {},
   "outputs": [],
   "source": [
    "def get_covid_data():\n",
    "    import csv\n",
    "    lines = list(csv.reader(open('covid.csv', 'r')))\n",
    "    headers, rows = lines[0], lines[1:]\n",
    "    headers[0] = headers[0][1:]\n",
    "    def to_number(v):\n",
    "        try: return float(v)\n",
    "        except Exception: return 0. if v == 'NA' else v\n",
    "    rows = [[to_number(value) for value in row] for row in rows]\n",
    "    return DataFrame(fields=headers, rows=rows)"
   ]
  },
  {
   "cell_type": "code",
   "execution_count": 4,
   "metadata": {},
   "outputs": [
    {
     "data": {
      "text/plain": [
       "country country_code year_week level    region region_name new_cases tests_done population testing_rate positivity_rate testing_data_source\n",
       "------- ------------ --------- -----    ------ ----------- --------- ---------- ---------- ------------ --------------- -------------------\n",
       "Czechia CZ           2020-W16  national CZ     Czechia     755.0     44165.0    10516707.0 419.9508458  1.709498472     TESSy COVID-19     \n",
       "Czechia CZ           2020-W17  national CZ     Czechia     658.0     46583.0    10516707.0 442.9428337  1.412532469     TESSy COVID-19     \n",
       "Czechia CZ           2020-W18  national CZ     Czechia     379.0     43476.0    10516707.0 413.3993654  0.871745331     TESSy COVID-19     "
      ]
     },
     "execution_count": 4,
     "metadata": {},
     "output_type": "execute_result"
    }
   ],
   "source": [
    "df = get_covid_data()\n",
    "df[1000:1003]"
   ]
  },
  {
   "cell_type": "code",
   "execution_count": 5,
   "metadata": {},
   "outputs": [
    {
     "data": {
      "text/plain": [
       "Period   Most New Cases (Norm.) Country with Most New Cases (Norm.)\n",
       "------   ---------------------- -----------------------------------\n",
       "2020-W01 0.17                   Denmark                            \n",
       "2020-W02 0.2                    Denmark                            \n",
       "2020-W03 0.14                   Denmark                            \n",
       "2020-W04 0.26                   Denmark                            \n",
       "2020-W05 0.22                   Denmark                            \n",
       "2020-W06 3.99                   Iceland                            \n",
       "2020-W07 0.24                   Denmark                            \n",
       "2020-W08 0.29                   Italy                              \n",
       "2020-W09 3.35                   Italy                              \n",
       "2020-W10 14.13                  Italy                              \n",
       "2020-W11 35.76                  Italy                              \n",
       "2020-W12 122.53                 Iceland                            \n",
       "2020-W13 418.23                 Estonia                            \n",
       "2020-W14 116.94                 Iceland                            \n",
       "2020-W15 96.19                  Belgium                            \n",
       "2020-W16 98.24                  Ireland                            \n",
       "2020-W17 77.08                  Ireland                            \n",
       "2020-W18 46.23                  Ireland                            \n",
       "2020-W19 39.73                  Sweden                             \n",
       "2020-W20 37.02                  Sweden                             "
      ]
     },
     "execution_count": 5,
     "metadata": {},
     "output_type": "execute_result"
    }
   ],
   "source": [
    "summary = (\n",
    "    df\n",
    "        .apply('New Cases', lambda new_cases: new_cases or 0., 'new_cases')\n",
    "        .rename('country', 'Country')\n",
    "        .rename('year_week', 'Period')        \n",
    "        .rename('population', 'Population')\n",
    "        .select('Country', 'New Cases', 'Period', 'Population')      \n",
    "        .apply('New Cases (Norm.)', lambda new_cases, population: round(100_000 * new_cases / population, 2), 'New Cases', 'Population')  \n",
    "        .group('Period')\n",
    "        .apply('Most New Cases (Norm.)', lambda new_cases: max(new_cases), 'New Cases (Norm.)')\n",
    "        .apply('Country with Most New Cases (Norm.)', lambda countries, new_cases, most_new_cases: [c for c, n in zip(countries, new_cases) if n == most_new_cases][0], 'Country', 'New Cases (Norm.)', 'Most New Cases (Norm.)')\n",
    "        .select('Period', 'Most New Cases (Norm.)', 'Country with Most New Cases (Norm.)')\n",
    "        [:20]\n",
    ")\n",
    "summary"
   ]
  }
 ],
 "metadata": {
  "kernelspec": {
   "display_name": "Python 3",
   "language": "python",
   "name": "python3"
  },
  "language_info": {
   "codemirror_mode": {
    "name": "ipython",
    "version": 3
   },
   "file_extension": ".py",
   "mimetype": "text/x-python",
   "name": "python",
   "nbconvert_exporter": "python",
   "pygments_lexer": "ipython3",
   "version": "3.9.6"
  }
 },
 "nbformat": 4,
 "nbformat_minor": 2
}
