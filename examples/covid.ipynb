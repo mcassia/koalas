{
 "cells": [
  {
   "cell_type": "code",
   "execution_count": 40,
   "metadata": {},
   "outputs": [],
   "source": [
    "import sys\n",
    "sys.path.append('../koalas/')"
   ]
  },
  {
   "cell_type": "code",
   "execution_count": 59,
   "metadata": {},
   "outputs": [],
   "source": [
    "import csv\n",
    "lines = list(csv.reader(open('covid.csv', 'r')))\n",
    "headers, rows = lines[0], lines[1:]\n",
    "headers[0] = headers[0][1:]\n",
    "rows = [[(0. if value == 'NA' else value) for value in row] for row in rows]"
   ]
  },
  {
   "cell_type": "code",
   "execution_count": 60,
   "metadata": {},
   "outputs": [],
   "source": [
    "from koalas import DataFrame"
   ]
  },
  {
   "cell_type": "code",
   "execution_count": 61,
   "metadata": {},
   "outputs": [],
   "source": [
    "df = DataFrame(fields=headers, rows=rows)"
   ]
  },
  {
   "cell_type": "code",
   "execution_count": 67,
   "metadata": {},
   "outputs": [
    {
     "ename": "TypeError",
     "evalue": "unsupported operand type(s) for /: 'float' and 'str'",
     "output_type": "error",
     "traceback": [
      "\u001b[0;31m---------------------------------------------------------------------------\u001b[0m",
      "\u001b[0;31mTypeError\u001b[0m                                 Traceback (most recent call last)",
      "\u001b[1;32m/Users/matteo/Desktop/koalas/examples/covid.ipynb Cell 5\u001b[0m line \u001b[0;36m2\n\u001b[1;32m      <a href='vscode-notebook-cell:/Users/matteo/Desktop/koalas/examples/covid.ipynb#W3sZmlsZQ%3D%3D?line=0'>1</a>\u001b[0m (\n\u001b[0;32m----> <a href='vscode-notebook-cell:/Users/matteo/Desktop/koalas/examples/covid.ipynb#W3sZmlsZQ%3D%3D?line=1'>2</a>\u001b[0m     df\n\u001b[1;32m      <a href='vscode-notebook-cell:/Users/matteo/Desktop/koalas/examples/covid.ipynb#W3sZmlsZQ%3D%3D?line=2'>3</a>\u001b[0m         \u001b[39m.\u001b[39;49mapply(\u001b[39m'\u001b[39;49m\u001b[39mNew Cases\u001b[39;49m\u001b[39m'\u001b[39;49m, \u001b[39mlambda\u001b[39;49;00m new_cases: new_cases \u001b[39mor\u001b[39;49;00m \u001b[39m0.\u001b[39;49m, \u001b[39m'\u001b[39;49m\u001b[39mnew_cases\u001b[39;49m\u001b[39m'\u001b[39;49m)\n\u001b[1;32m      <a href='vscode-notebook-cell:/Users/matteo/Desktop/koalas/examples/covid.ipynb#W3sZmlsZQ%3D%3D?line=3'>4</a>\u001b[0m         \u001b[39m.\u001b[39;49mrename(\u001b[39m'\u001b[39;49m\u001b[39mcountry\u001b[39;49m\u001b[39m'\u001b[39;49m, \u001b[39m'\u001b[39;49m\u001b[39mCountry\u001b[39;49m\u001b[39m'\u001b[39;49m)\n\u001b[1;32m      <a href='vscode-notebook-cell:/Users/matteo/Desktop/koalas/examples/covid.ipynb#W3sZmlsZQ%3D%3D?line=4'>5</a>\u001b[0m         \u001b[39m.\u001b[39;49mrename(\u001b[39m'\u001b[39;49m\u001b[39myear_week\u001b[39;49m\u001b[39m'\u001b[39;49m, \u001b[39m'\u001b[39;49m\u001b[39mPeriod\u001b[39;49m\u001b[39m'\u001b[39;49m)        \n\u001b[1;32m      <a href='vscode-notebook-cell:/Users/matteo/Desktop/koalas/examples/covid.ipynb#W3sZmlsZQ%3D%3D?line=5'>6</a>\u001b[0m         \u001b[39m.\u001b[39;49mrename(\u001b[39m'\u001b[39;49m\u001b[39mpopulation\u001b[39;49m\u001b[39m'\u001b[39;49m, \u001b[39m'\u001b[39;49m\u001b[39mPopulation\u001b[39;49m\u001b[39m'\u001b[39;49m)\n\u001b[1;32m      <a href='vscode-notebook-cell:/Users/matteo/Desktop/koalas/examples/covid.ipynb#W3sZmlsZQ%3D%3D?line=6'>7</a>\u001b[0m         \u001b[39m.\u001b[39;49mselect(\u001b[39m'\u001b[39;49m\u001b[39mCountry\u001b[39;49m\u001b[39m'\u001b[39;49m, \u001b[39m'\u001b[39;49m\u001b[39mNew Cases\u001b[39;49m\u001b[39m'\u001b[39;49m, \u001b[39m'\u001b[39;49m\u001b[39mPeriod\u001b[39;49m\u001b[39m'\u001b[39;49m, \u001b[39m'\u001b[39;49m\u001b[39mPopulation\u001b[39;49m\u001b[39m'\u001b[39;49m)      \n\u001b[1;32m      <a href='vscode-notebook-cell:/Users/matteo/Desktop/koalas/examples/covid.ipynb#W3sZmlsZQ%3D%3D?line=7'>8</a>\u001b[0m         \u001b[39m.\u001b[39;49mapply(\u001b[39m'\u001b[39;49m\u001b[39mNew Cases (Norm.)\u001b[39;49m\u001b[39m'\u001b[39;49m, \u001b[39mlambda\u001b[39;49;00m new_cases, population: \u001b[39mround\u001b[39;49m(\u001b[39m100_000\u001b[39;49m \u001b[39m*\u001b[39;49m new_cases \u001b[39m/\u001b[39;49m population, \u001b[39m2\u001b[39;49m), \u001b[39m'\u001b[39;49m\u001b[39mNew Cases\u001b[39;49m\u001b[39m'\u001b[39;49m, \u001b[39m'\u001b[39;49m\u001b[39mPopulation\u001b[39;49m\u001b[39m'\u001b[39;49m)  \n\u001b[1;32m      <a href='vscode-notebook-cell:/Users/matteo/Desktop/koalas/examples/covid.ipynb#W3sZmlsZQ%3D%3D?line=8'>9</a>\u001b[0m         \u001b[39m.\u001b[39mgroup(\u001b[39m'\u001b[39m\u001b[39mPeriod\u001b[39m\u001b[39m'\u001b[39m)\n\u001b[1;32m     <a href='vscode-notebook-cell:/Users/matteo/Desktop/koalas/examples/covid.ipynb#W3sZmlsZQ%3D%3D?line=9'>10</a>\u001b[0m         \u001b[39m.\u001b[39mapply(\u001b[39m'\u001b[39m\u001b[39mMost New Cases (Norm.)\u001b[39m\u001b[39m'\u001b[39m, \u001b[39mlambda\u001b[39;00m new_cases: \u001b[39mmax\u001b[39m(new_cases), \u001b[39m'\u001b[39m\u001b[39mNew Cases (Norm.)\u001b[39m\u001b[39m'\u001b[39m)\n\u001b[1;32m     <a href='vscode-notebook-cell:/Users/matteo/Desktop/koalas/examples/covid.ipynb#W3sZmlsZQ%3D%3D?line=10'>11</a>\u001b[0m         \u001b[39m.\u001b[39mapply(\u001b[39m'\u001b[39m\u001b[39mCountry with Most New Cases (Norm.)\u001b[39m\u001b[39m'\u001b[39m, \u001b[39mlambda\u001b[39;00m countries, new_cases, most_new_cases: [c \u001b[39mfor\u001b[39;00m c, n \u001b[39min\u001b[39;00m \u001b[39mzip\u001b[39m(countries, new_cases) \u001b[39mif\u001b[39;00m n \u001b[39m==\u001b[39m most_new_cases][\u001b[39m0\u001b[39m], \u001b[39m'\u001b[39m\u001b[39mCountry\u001b[39m\u001b[39m'\u001b[39m, \u001b[39m'\u001b[39m\u001b[39mNew Cases (Norm.)\u001b[39m\u001b[39m'\u001b[39m, \u001b[39m'\u001b[39m\u001b[39mMost New Cases (Norm.)\u001b[39m\u001b[39m'\u001b[39m)\n\u001b[1;32m     <a href='vscode-notebook-cell:/Users/matteo/Desktop/koalas/examples/covid.ipynb#W3sZmlsZQ%3D%3D?line=11'>12</a>\u001b[0m         \u001b[39m.\u001b[39mselect(\u001b[39m'\u001b[39m\u001b[39mPeriod\u001b[39m\u001b[39m'\u001b[39m, \u001b[39m'\u001b[39m\u001b[39mMost New Cases (Norm.)\u001b[39m\u001b[39m'\u001b[39m, \u001b[39m'\u001b[39m\u001b[39mCountry with Most New Cases (Norm.)\u001b[39m\u001b[39m'\u001b[39m)\n\u001b[1;32m     <a href='vscode-notebook-cell:/Users/matteo/Desktop/koalas/examples/covid.ipynb#W3sZmlsZQ%3D%3D?line=12'>13</a>\u001b[0m         [:\u001b[39m20\u001b[39m]\n\u001b[1;32m     <a href='vscode-notebook-cell:/Users/matteo/Desktop/koalas/examples/covid.ipynb#W3sZmlsZQ%3D%3D?line=13'>14</a>\u001b[0m )\n",
      "File \u001b[0;32m~/Desktop/koalas/examples/../koalas/koalas.py:285\u001b[0m, in \u001b[0;36mDataFrame.apply\u001b[0;34m(self, field, fn, *fields)\u001b[0m\n\u001b[1;32m    283\u001b[0m \u001b[39massert\u001b[39;00m field \u001b[39mnot\u001b[39;00m \u001b[39min\u001b[39;00m \u001b[39mself\u001b[39m\u001b[39m.\u001b[39mfields\n\u001b[1;32m    284\u001b[0m indices \u001b[39m=\u001b[39m [\u001b[39mself\u001b[39m\u001b[39m.\u001b[39m_get_field_index(f) \u001b[39mfor\u001b[39;00m f \u001b[39min\u001b[39;00m fields]\n\u001b[0;32m--> 285\u001b[0m rows \u001b[39m=\u001b[39m [(\u001b[39m*\u001b[39mrow, fn(\u001b[39m*\u001b[39m(row[i] \u001b[39mfor\u001b[39;00m i \u001b[39min\u001b[39;00m indices))) \u001b[39mfor\u001b[39;00m row \u001b[39min\u001b[39;00m \u001b[39mself\u001b[39m\u001b[39m.\u001b[39mrows]\n\u001b[1;32m    287\u001b[0m \u001b[39mreturn\u001b[39;00m DataFrame(fields\u001b[39m=\u001b[39m\u001b[39mself\u001b[39m\u001b[39m.\u001b[39mfields\u001b[39m+\u001b[39m(field,), rows\u001b[39m=\u001b[39mrows)\n",
      "File \u001b[0;32m~/Desktop/koalas/examples/../koalas/koalas.py:285\u001b[0m, in \u001b[0;36m<listcomp>\u001b[0;34m(.0)\u001b[0m\n\u001b[1;32m    283\u001b[0m \u001b[39massert\u001b[39;00m field \u001b[39mnot\u001b[39;00m \u001b[39min\u001b[39;00m \u001b[39mself\u001b[39m\u001b[39m.\u001b[39mfields\n\u001b[1;32m    284\u001b[0m indices \u001b[39m=\u001b[39m [\u001b[39mself\u001b[39m\u001b[39m.\u001b[39m_get_field_index(f) \u001b[39mfor\u001b[39;00m f \u001b[39min\u001b[39;00m fields]\n\u001b[0;32m--> 285\u001b[0m rows \u001b[39m=\u001b[39m [(\u001b[39m*\u001b[39mrow, fn(\u001b[39m*\u001b[39;49m(row[i] \u001b[39mfor\u001b[39;49;00m i \u001b[39min\u001b[39;49;00m indices))) \u001b[39mfor\u001b[39;00m row \u001b[39min\u001b[39;00m \u001b[39mself\u001b[39m\u001b[39m.\u001b[39mrows]\n\u001b[1;32m    287\u001b[0m \u001b[39mreturn\u001b[39;00m DataFrame(fields\u001b[39m=\u001b[39m\u001b[39mself\u001b[39m\u001b[39m.\u001b[39mfields\u001b[39m+\u001b[39m(field,), rows\u001b[39m=\u001b[39mrows)\n",
      "\u001b[1;32m/Users/matteo/Desktop/koalas/examples/covid.ipynb Cell 5\u001b[0m line \u001b[0;36m8\n\u001b[1;32m      <a href='vscode-notebook-cell:/Users/matteo/Desktop/koalas/examples/covid.ipynb#W3sZmlsZQ%3D%3D?line=0'>1</a>\u001b[0m (\n\u001b[1;32m      <a href='vscode-notebook-cell:/Users/matteo/Desktop/koalas/examples/covid.ipynb#W3sZmlsZQ%3D%3D?line=1'>2</a>\u001b[0m     df\n\u001b[1;32m      <a href='vscode-notebook-cell:/Users/matteo/Desktop/koalas/examples/covid.ipynb#W3sZmlsZQ%3D%3D?line=2'>3</a>\u001b[0m         \u001b[39m.\u001b[39mapply(\u001b[39m'\u001b[39m\u001b[39mNew Cases\u001b[39m\u001b[39m'\u001b[39m, \u001b[39mlambda\u001b[39;00m new_cases: new_cases \u001b[39mor\u001b[39;00m \u001b[39m0.\u001b[39m, \u001b[39m'\u001b[39m\u001b[39mnew_cases\u001b[39m\u001b[39m'\u001b[39m)\n\u001b[1;32m      <a href='vscode-notebook-cell:/Users/matteo/Desktop/koalas/examples/covid.ipynb#W3sZmlsZQ%3D%3D?line=3'>4</a>\u001b[0m         \u001b[39m.\u001b[39mrename(\u001b[39m'\u001b[39m\u001b[39mcountry\u001b[39m\u001b[39m'\u001b[39m, \u001b[39m'\u001b[39m\u001b[39mCountry\u001b[39m\u001b[39m'\u001b[39m)\n\u001b[1;32m      <a href='vscode-notebook-cell:/Users/matteo/Desktop/koalas/examples/covid.ipynb#W3sZmlsZQ%3D%3D?line=4'>5</a>\u001b[0m         \u001b[39m.\u001b[39mrename(\u001b[39m'\u001b[39m\u001b[39myear_week\u001b[39m\u001b[39m'\u001b[39m, \u001b[39m'\u001b[39m\u001b[39mPeriod\u001b[39m\u001b[39m'\u001b[39m)        \n\u001b[1;32m      <a href='vscode-notebook-cell:/Users/matteo/Desktop/koalas/examples/covid.ipynb#W3sZmlsZQ%3D%3D?line=5'>6</a>\u001b[0m         \u001b[39m.\u001b[39mrename(\u001b[39m'\u001b[39m\u001b[39mpopulation\u001b[39m\u001b[39m'\u001b[39m, \u001b[39m'\u001b[39m\u001b[39mPopulation\u001b[39m\u001b[39m'\u001b[39m)\n\u001b[1;32m      <a href='vscode-notebook-cell:/Users/matteo/Desktop/koalas/examples/covid.ipynb#W3sZmlsZQ%3D%3D?line=6'>7</a>\u001b[0m         \u001b[39m.\u001b[39mselect(\u001b[39m'\u001b[39m\u001b[39mCountry\u001b[39m\u001b[39m'\u001b[39m, \u001b[39m'\u001b[39m\u001b[39mNew Cases\u001b[39m\u001b[39m'\u001b[39m, \u001b[39m'\u001b[39m\u001b[39mPeriod\u001b[39m\u001b[39m'\u001b[39m, \u001b[39m'\u001b[39m\u001b[39mPopulation\u001b[39m\u001b[39m'\u001b[39m)      \n\u001b[0;32m----> <a href='vscode-notebook-cell:/Users/matteo/Desktop/koalas/examples/covid.ipynb#W3sZmlsZQ%3D%3D?line=7'>8</a>\u001b[0m         \u001b[39m.\u001b[39mapply(\u001b[39m'\u001b[39m\u001b[39mNew Cases (Norm.)\u001b[39m\u001b[39m'\u001b[39m, \u001b[39mlambda\u001b[39;00m new_cases, population: \u001b[39mround\u001b[39m(\u001b[39m100_000\u001b[39;49m \u001b[39m*\u001b[39;49m new_cases \u001b[39m/\u001b[39;49m population, \u001b[39m2\u001b[39m), \u001b[39m'\u001b[39m\u001b[39mNew Cases\u001b[39m\u001b[39m'\u001b[39m, \u001b[39m'\u001b[39m\u001b[39mPopulation\u001b[39m\u001b[39m'\u001b[39m)  \n\u001b[1;32m      <a href='vscode-notebook-cell:/Users/matteo/Desktop/koalas/examples/covid.ipynb#W3sZmlsZQ%3D%3D?line=8'>9</a>\u001b[0m         \u001b[39m.\u001b[39mgroup(\u001b[39m'\u001b[39m\u001b[39mPeriod\u001b[39m\u001b[39m'\u001b[39m)\n\u001b[1;32m     <a href='vscode-notebook-cell:/Users/matteo/Desktop/koalas/examples/covid.ipynb#W3sZmlsZQ%3D%3D?line=9'>10</a>\u001b[0m         \u001b[39m.\u001b[39mapply(\u001b[39m'\u001b[39m\u001b[39mMost New Cases (Norm.)\u001b[39m\u001b[39m'\u001b[39m, \u001b[39mlambda\u001b[39;00m new_cases: \u001b[39mmax\u001b[39m(new_cases), \u001b[39m'\u001b[39m\u001b[39mNew Cases (Norm.)\u001b[39m\u001b[39m'\u001b[39m)\n\u001b[1;32m     <a href='vscode-notebook-cell:/Users/matteo/Desktop/koalas/examples/covid.ipynb#W3sZmlsZQ%3D%3D?line=10'>11</a>\u001b[0m         \u001b[39m.\u001b[39mapply(\u001b[39m'\u001b[39m\u001b[39mCountry with Most New Cases (Norm.)\u001b[39m\u001b[39m'\u001b[39m, \u001b[39mlambda\u001b[39;00m countries, new_cases, most_new_cases: [c \u001b[39mfor\u001b[39;00m c, n \u001b[39min\u001b[39;00m \u001b[39mzip\u001b[39m(countries, new_cases) \u001b[39mif\u001b[39;00m n \u001b[39m==\u001b[39m most_new_cases][\u001b[39m0\u001b[39m], \u001b[39m'\u001b[39m\u001b[39mCountry\u001b[39m\u001b[39m'\u001b[39m, \u001b[39m'\u001b[39m\u001b[39mNew Cases (Norm.)\u001b[39m\u001b[39m'\u001b[39m, \u001b[39m'\u001b[39m\u001b[39mMost New Cases (Norm.)\u001b[39m\u001b[39m'\u001b[39m)\n\u001b[1;32m     <a href='vscode-notebook-cell:/Users/matteo/Desktop/koalas/examples/covid.ipynb#W3sZmlsZQ%3D%3D?line=11'>12</a>\u001b[0m         \u001b[39m.\u001b[39mselect(\u001b[39m'\u001b[39m\u001b[39mPeriod\u001b[39m\u001b[39m'\u001b[39m, \u001b[39m'\u001b[39m\u001b[39mMost New Cases (Norm.)\u001b[39m\u001b[39m'\u001b[39m, \u001b[39m'\u001b[39m\u001b[39mCountry with Most New Cases (Norm.)\u001b[39m\u001b[39m'\u001b[39m)\n\u001b[1;32m     <a href='vscode-notebook-cell:/Users/matteo/Desktop/koalas/examples/covid.ipynb#W3sZmlsZQ%3D%3D?line=12'>13</a>\u001b[0m         [:\u001b[39m20\u001b[39m]\n\u001b[1;32m     <a href='vscode-notebook-cell:/Users/matteo/Desktop/koalas/examples/covid.ipynb#W3sZmlsZQ%3D%3D?line=13'>14</a>\u001b[0m )\n",
      "\u001b[0;31mTypeError\u001b[0m: unsupported operand type(s) for /: 'float' and 'str'"
     ]
    }
   ],
   "source": [
    "(\n",
    "    df\n",
    "        .apply('New Cases', lambda new_cases: new_cases or 0., 'new_cases')\n",
    "        .rename('country', 'Country')\n",
    "        .rename('year_week', 'Period')        \n",
    "        .rename('population', 'Population')\n",
    "        .select('Country', 'New Cases', 'Period', 'Population')      \n",
    "        .apply('New Cases (Norm.)', lambda new_cases, population: round(100_000 * new_cases / population, 2), 'New Cases', 'Population')  \n",
    "        .group('Period')\n",
    "        .apply('Most New Cases (Norm.)', lambda new_cases: max(new_cases), 'New Cases (Norm.)')\n",
    "        .apply('Country with Most New Cases (Norm.)', lambda countries, new_cases, most_new_cases: [c for c, n in zip(countries, new_cases) if n == most_new_cases][0], 'Country', 'New Cases (Norm.)', 'Most New Cases (Norm.)')\n",
    "        .select('Period', 'Most New Cases (Norm.)', 'Country with Most New Cases (Norm.)')\n",
    "        [:20]\n",
    ")"
   ]
  },
  {
   "cell_type": "code",
   "execution_count": null,
   "metadata": {},
   "outputs": [],
   "source": []
  }
 ],
 "metadata": {
  "kernelspec": {
   "display_name": "Python 3",
   "language": "python",
   "name": "python3"
  },
  "language_info": {
   "codemirror_mode": {
    "name": "ipython",
    "version": 3
   },
   "file_extension": ".py",
   "mimetype": "text/x-python",
   "name": "python",
   "nbconvert_exporter": "python",
   "pygments_lexer": "ipython3",
   "version": "3.9.6"
  }
 },
 "nbformat": 4,
 "nbformat_minor": 2
}
