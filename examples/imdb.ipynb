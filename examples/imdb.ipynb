{
 "cells": [
  {
   "cell_type": "code",
   "execution_count": 1,
   "metadata": {},
   "outputs": [],
   "source": [
    "import sys\n",
    "sys.path.append('../koalas/')"
   ]
  },
  {
   "cell_type": "code",
   "execution_count": 2,
   "metadata": {},
   "outputs": [],
   "source": [
    "from koalas import DataFrame"
   ]
  },
  {
   "cell_type": "code",
   "execution_count": 3,
   "metadata": {},
   "outputs": [],
   "source": [
    "def download_dataset(name):\n",
    "    from urllib import request\n",
    "    with request.urlopen(request.Request(f'https://datasets.imdbws.com/{name}')) as response:\n",
    "        if response.status == 200:\n",
    "            with open(name, \"wb\") as f:\n",
    "                f.write(response.read())\n",
    "\n",
    "def get_dataset(name):\n",
    "    import gzip\n",
    "    with gzip.open(name, 'rb') as f:\n",
    "        lines = f.read().decode('utf8').splitlines()\n",
    "        lines = [line.split('\\t') for line in lines]\n",
    "        headers, rows = lines[0], lines[1:]\n",
    "        return DataFrame(fields=headers, rows=rows)\n",
    "    "
   ]
  },
  {
   "cell_type": "code",
   "execution_count": 4,
   "metadata": {},
   "outputs": [],
   "source": [
    "df = get_dataset(\"title.basics.tsv.gz\")"
   ]
  },
  {
   "cell_type": "code",
   "execution_count": 5,
   "metadata": {},
   "outputs": [
    {
     "data": {
      "text/plain": [
       "tconst    titleType primaryTitle originalTitle isAdult startYear endYear runtimeMinutes genres           \n",
       "------    --------- ------------ ------------- ------- --------- ------- -------------- ------           \n",
       "tt0000001 short     Carmencita   Carmencita    0       1894      \\N      1              Documentary,Short"
      ]
     },
     "execution_count": 5,
     "metadata": {},
     "output_type": "execute_result"
    }
   ],
   "source": [
    "df[:1]"
   ]
  },
  {
   "cell_type": "code",
   "execution_count": 6,
   "metadata": {},
   "outputs": [
    {
     "data": {
      "text/plain": [
       "titleType    count  \n",
       "---------    -----  \n",
       "tvEpisode    7810007\n",
       "short        957032 \n",
       "movie        660071 \n",
       "video        281648 \n",
       "tvSeries     250750 \n",
       "tvMovie      143225 \n",
       "tvMiniSeries 50827  \n",
       "tvSpecial    43832  \n",
       "videoGame    36221  \n",
       "tvShort      10039  \n",
       "tvPilot      1      "
      ]
     },
     "execution_count": 6,
     "metadata": {},
     "output_type": "execute_result"
    }
   ],
   "source": [
    "(\n",
    "    df\n",
    "        .select('titleType', 'primaryTitle')\n",
    "        .group('titleType')\n",
    "        .apply('count', len, 'primaryTitle')\n",
    "        .select('titleType', 'count')\n",
    "        .sort('count')\n",
    "        .reverse()\n",
    ")"
   ]
  },
  {
   "cell_type": "code",
   "execution_count": 10,
   "metadata": {},
   "outputs": [
    {
     "data": {
      "text/plain": [
       "Year Average Duration  \n",
       "---- ----------------  \n",
       "\\N   38.68760434376388 \n",
       "2029 79.0              \n",
       "2028 86.0              \n",
       "2027 57.0              \n",
       "2026 6116.0            \n",
       "2025 88.08163265306122 \n",
       "2024 59.8037518037518  \n",
       "2023 45.771784097201866\n",
       "2022 44.70599918463774 \n",
       "2021 42.56906266456029 \n",
       "2020 39.77988115302417 \n",
       "2019 39.841724064474896\n",
       "2018 37.73977156680259 \n",
       "2017 38.12672645996905 \n",
       "2016 37.5088336810165  \n",
       "2015 38.16544405669112 \n",
       "2014 37.73515325270188 \n",
       "2013 37.852185264761076\n",
       "2012 39.1653910606313  \n",
       "2011 40.21396760249749 \n",
       "2010 40.7069697578976  \n",
       "2009 42.20539664007265 \n",
       "2008 44.256646610747204\n",
       "2007 45.558310925206655\n",
       "2006 47.564421947030645\n",
       "2005 48.97963304869605 \n",
       "2004 51.12196693627233 \n",
       "2003 50.41621309789561 \n",
       "2002 49.0319323217403  \n",
       "2001 49.52461012232593 \n",
       "2000 50.82041251778094 \n",
       "1999 49.38884808226615 \n",
       "1998 49.16050831545064 \n",
       "1997 49.06465351719323 \n",
       "1996 50.48432082594961 \n",
       "1995 50.41390971316819 \n",
       "1994 51.48293311252185 \n",
       "1993 51.059949170279566\n",
       "1992 52.99737325978461 \n",
       "1991 52.346850544519235\n",
       "1990 50.78814876204289 \n",
       "1989 52.141648601491035\n",
       "1988 53.87387745822439 \n",
       "1987 52.29801179812104 \n",
       "1986 51.1298473030869  \n",
       "1985 51.473842487517025\n",
       "1984 49.995902856124935\n",
       "1983 49.83513802950976 \n",
       "1982 51.40838838339773 \n",
       "1981 51.93927205591454 \n",
       "1980 51.22884891148481 \n",
       "1979 51.271010387157695\n",
       "1978 51.451901856419575\n",
       "1977 50.67220967631561 \n",
       "1976 49.37503337783711 \n",
       "1975 47.50253872356835 \n",
       "1974 47.080287004391664\n",
       "1973 48.782714781045335\n",
       "1972 47.693051552993914\n",
       "1971 45.15543256626857 \n",
       "1970 45.46558066211245 \n",
       "1969 44.75352977286679 \n",
       "1968 46.29989012498283 \n",
       "1967 44.850991246138   \n",
       "1966 44.70979347101932 \n",
       "1965 45.529750085587125\n",
       "1964 47.77154046997389 \n",
       "1963 46.11589920380859 \n",
       "1962 48.050684687889024\n",
       "1961 44.882952490547424\n",
       "1960 46.88399644584855 \n",
       "1959 47.089296762219014\n",
       "1958 46.71800868693619 \n",
       "1957 48.02663837812353 \n",
       "1956 50.14685896546942 \n",
       "1955 49.15970802919708 \n",
       "1954 48.08991531947652 \n",
       "1953 50.32459196772419 \n",
       "1952 51.95835935873412 \n",
       "1951 49.06362275449102 \n",
       "1950 55.0905695611578  \n",
       "1949 55.52500899604174 \n",
       "1948 56.054491272882075\n",
       "1947 57.101926977687626\n",
       "1946 53.315934065934066\n",
       "1945 49.818070818070815\n",
       "1944 52.73889555822329 \n",
       "1943 55.890957446808514\n",
       "1942 55.17451660882499 \n",
       "1941 56.31967213114754 \n",
       "1940 58.16803278688525 \n",
       "1939 57.42769500438212 \n",
       "1938 54.79289463060154 \n",
       "1937 52.98840463814474 \n",
       "1936 55.024600776866635\n",
       "1935 54.4546748932131  \n",
       "1934 53.394499762920816\n",
       "1933 53.216976127320955\n",
       "1932 51.94755421079173 \n",
       "1931 48.28768382352941 \n",
       "1930 46.40231150247661 \n",
       "1929 42.66977829638273 \n",
       "1928 50.40221914008322 \n",
       "1927 51.84442782348542 \n",
       "1926 51.895591647331784\n",
       "1925 54.6890243902439  \n",
       "1924 53.6936127744511  \n",
       "1923 56.01771871539314 \n",
       "1922 54.43614718614719 \n",
       "1921 51.88412852969815 \n",
       "1920 51.9472710453284  \n",
       "1919 52.24531668153434 \n",
       "1918 49.53508771929825 \n",
       "1917 46.699769053117784\n",
       "1916 42.81985940246046 \n",
       "1915 34.255445544554455\n",
       "1914 22.431024930747924\n",
       "1913 15.799932523616734\n",
       "1912 14.89805375347544 \n",
       "1911 15.400621118012422\n",
       "1910 13.42117117117117 \n",
       "1909 9.36              \n",
       "1908 9.328671328671328 \n",
       "1907 7.752380952380952 \n",
       "1906 6.613526570048309 \n",
       "1905 5.4051282051282055\n",
       "1904 4.354679802955665 \n",
       "1903 3.4702970297029703\n",
       "1902 2.7933333333333334\n",
       "1901 2.5538461538461537\n",
       "1900 2.325358851674641 \n",
       "1899 2.3459119496855347\n",
       "1898 1.3169014084507042\n",
       "1897 1.5850622406639003\n",
       "1896 1.3192982456140352\n",
       "1895 1.2195121951219512\n",
       "1894 2.3947368421052633\n",
       "1893 1.0               \n",
       "1892 4.6               \n",
       "1891 1.0               \n",
       "1890 1.0               \n",
       "1889 1.0               \n",
       "1888 1.0               \n",
       "1887 1.0               \n",
       "1885 1.0               \n",
       "1883 1.0               \n",
       "1882 1.0               \n",
       "1881 1.0               \n",
       "1878 1.0               \n",
       "1877 1.0               \n",
       "1874 1.0               "
      ]
     },
     "execution_count": 10,
     "metadata": {},
     "output_type": "execute_result"
    }
   ],
   "source": [
    "(\n",
    "    df\n",
    "        .select('startYear', 'runtimeMinutes')\n",
    "        .rename('startYear', 'Year')\n",
    "        .rename('runtimeMinutes', 'Duration')\n",
    "        .apply('ValidYear', str.isnumeric, 'Year')\n",
    "        .filter('ValidYear', True)\n",
    "        .apply('ValidDuration', str.isnumeric, 'Duration')\n",
    "        .filter('ValidDuration', True)\n",
    "        .apply('DurationMinutes', int, 'Duration')\n",
    "        .select('Year', 'DurationMinutes')\n",
    "        .rename('DurationMinutes', 'Duration')\n",
    "        .group('Year')\n",
    "        .apply('Average Duration', lambda durations: sum(durations) / len(durations), 'Duration')\n",
    "        .select('Year', 'Average Duration')\n",
    "        .sort('Year')\n",
    "        .reverse()\n",
    ")"
   ]
  }
 ],
 "metadata": {
  "kernelspec": {
   "display_name": "Python 3",
   "language": "python",
   "name": "python3"
  },
  "language_info": {
   "codemirror_mode": {
    "name": "ipython",
    "version": 3
   },
   "file_extension": ".py",
   "mimetype": "text/x-python",
   "name": "python",
   "nbconvert_exporter": "python",
   "pygments_lexer": "ipython3",
   "version": "3.9.6"
  }
 },
 "nbformat": 4,
 "nbformat_minor": 2
}
