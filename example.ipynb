{
 "cells": [
  {
   "cell_type": "code",
   "execution_count": null,
   "metadata": {},
   "outputs": [],
   "source": [
    "from koalas import DataFrame\n",
    "from example import chess"
   ]
  },
  {
   "cell_type": "code",
   "execution_count": null,
   "metadata": {},
   "outputs": [],
   "source": [
    "# Generate the DataFrame given the chess results, which are already in the form of records.\n",
    "df = DataFrame.from_records(chess('TineBerger', 2023, 9))\n",
    "df[2]"
   ]
  },
  {
   "cell_type": "code",
   "execution_count": null,
   "metadata": {},
   "outputs": [],
   "source": [
    "# Get the breakdown of how many games have been won, lost and drawn.\n",
    "(\n",
    "    df\n",
    "        .group('Outcome')\n",
    "        .apply('Count', len, 'Color')\n",
    "        .select('Outcome', 'Count')\n",
    ")"
   ]
  },
  {
   "cell_type": "code",
   "execution_count": null,
   "metadata": {},
   "outputs": [],
   "source": [
    "# Identify the most difficult players.\n",
    "(\n",
    "    df\n",
    "        .filter('Outcome', 'Lose')\n",
    "        .group('Opponent')\n",
    "        .apply('Losses', len, 'Outcome')\n",
    "        .select('Opponent', 'Losses')\n",
    "        .sort('Losses')\n",
    "        .reverse()\n",
    "        [:5]\n",
    ")"
   ]
  },
  {
   "cell_type": "code",
   "execution_count": null,
   "metadata": {},
   "outputs": [],
   "source": [
    "# Identify which openings are most and least successful when playing as black.\n",
    "def summary(df):\n",
    "    return (\n",
    "        df\n",
    "            .filter('Color', 'Black')\n",
    "            .apply('Opening', lambda moves: ' '.join(moves[:1]), 'Moves')\n",
    "            .group('Opening')\n",
    "            .apply('Count', len, 'Outcome')\n",
    "            .apply('Win Rate', lambda outcomes: outcomes.count('Win') / len(outcomes), 'Outcome')                \n",
    "            .apply('Win Percentage', lambda rate: round(100. * rate, 2), 'Win Rate')\n",
    "            .sort('Win Percentage')\n",
    "            .reverse()\n",
    "            .apply('Minimum', lambda count: count > 20, 'Count')\n",
    "            .filter('Minimum', True)\n",
    "            .select('Opening', 'Win Percentage')\n",
    "    )\n",
    "summary(df)"
   ]
  },
  {
   "cell_type": "code",
   "execution_count": null,
   "metadata": {},
   "outputs": [],
   "source": [
    "# Compare opening performance against another player\n",
    "left = summary(df).rename('Win Percentage', 'Win Percentage (Left)')\n",
    "right = summary(DataFrame.from_records(chess('architecturalpain', 2023, 9))).rename('Win Percentage', 'Win Percentage (Right)')\n",
    "comparison = left.join(right, 'Opening').apply('Difference', lambda a, b: round(b - a, 2), 'Win Percentage (Left)', 'Win Percentage (Right)').export('csv', 'performance.csv')\n",
    "comparison"
   ]
  },
  {
   "cell_type": "code",
   "execution_count": null,
   "metadata": {},
   "outputs": [],
   "source": []
  }
 ],
 "metadata": {
  "kernelspec": {
   "display_name": "Python 3",
   "language": "python",
   "name": "python3"
  },
  "language_info": {
   "codemirror_mode": {
    "name": "ipython",
    "version": 3
   },
   "file_extension": ".py",
   "mimetype": "text/x-python",
   "name": "python",
   "nbconvert_exporter": "python",
   "pygments_lexer": "ipython3",
   "version": "3.9.6"
  }
 },
 "nbformat": 4,
 "nbformat_minor": 2
}
