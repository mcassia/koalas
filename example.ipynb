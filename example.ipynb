{
 "cells": [
  {
   "cell_type": "code",
   "execution_count": 18,
   "metadata": {},
   "outputs": [],
   "source": [
    "from koalas import DataFrame\n",
    "from example import chess"
   ]
  },
  {
   "cell_type": "code",
   "execution_count": 19,
   "metadata": {},
   "outputs": [
    {
     "ename": "KeyError",
     "evalue": "'games'",
     "output_type": "error",
     "traceback": [
      "\u001b[0;31m---------------------------------------------------------------------------\u001b[0m",
      "\u001b[0;31mKeyError\u001b[0m                                  Traceback (most recent call last)",
      "\u001b[1;32m/Users/matteo/Desktop/koalas/example.ipynb Cell 2\u001b[0m line \u001b[0;36m2\n\u001b[1;32m      <a href='vscode-notebook-cell:/Users/matteo/Desktop/koalas/example.ipynb#W2sZmlsZQ%3D%3D?line=0'>1</a>\u001b[0m \u001b[39m# Generate the DataFrame given the chess results, which are already in the form of records.\u001b[39;00m\n\u001b[0;32m----> <a href='vscode-notebook-cell:/Users/matteo/Desktop/koalas/example.ipynb#W2sZmlsZQ%3D%3D?line=1'>2</a>\u001b[0m df \u001b[39m=\u001b[39m DataFrame\u001b[39m.\u001b[39mfrom_records(\u001b[39mlist\u001b[39;49m(chess(\u001b[39m'\u001b[39;49m\u001b[39mTineBerger\u001b[39;49m\u001b[39m'\u001b[39;49m, \u001b[39m2023\u001b[39;49m, \u001b[39m9\u001b[39;49m)))\n\u001b[1;32m      <a href='vscode-notebook-cell:/Users/matteo/Desktop/koalas/example.ipynb#W2sZmlsZQ%3D%3D?line=2'>3</a>\u001b[0m df[\u001b[39m2\u001b[39m]\n",
      "File \u001b[0;32m~/Desktop/koalas/example.py:33\u001b[0m, in \u001b[0;36mchess\u001b[0;34m(player, year, month)\u001b[0m\n\u001b[1;32m      5\u001b[0m \u001b[39mdef\u001b[39;00m \u001b[39mchess\u001b[39m(player:\u001b[39mstr\u001b[39m, year:\u001b[39mint\u001b[39m, month:\u001b[39mint\u001b[39m):\n\u001b[1;32m      6\u001b[0m \u001b[39m    \u001b[39m\u001b[39m\"\"\"\u001b[39;00m\n\u001b[1;32m      7\u001b[0m \u001b[39m    Fetches results of chess games played on https://wwww.chess.com by the player with the given\u001b[39;00m\n\u001b[1;32m      8\u001b[0m \u001b[39m    user name in the given month and tear.\u001b[39;00m\n\u001b[0;32m   (...)\u001b[0m\n\u001b[1;32m     31\u001b[0m \u001b[39m            }\u001b[39;00m\n\u001b[1;32m     32\u001b[0m \u001b[39m    \"\"\"\u001b[39;00m    \n\u001b[0;32m---> 33\u001b[0m     games \u001b[39m=\u001b[39m requests\u001b[39m.\u001b[39;49mget(\n\u001b[1;32m     34\u001b[0m         \u001b[39mf\u001b[39;49m\u001b[39m'\u001b[39;49m\u001b[39mhttps://api.chess.com/pub/player/\u001b[39;49m\u001b[39m{\u001b[39;49;00mplayer\u001b[39m}\u001b[39;49;00m\u001b[39m/games/\u001b[39;49m\u001b[39m{\u001b[39;49;00m\u001b[39mstr\u001b[39;49m(year)\u001b[39m}\u001b[39;49;00m\u001b[39m/\u001b[39;49m\u001b[39m{\u001b[39;49;00m\u001b[39mstr\u001b[39;49m(month)\u001b[39m.\u001b[39;49mljust(\u001b[39m2\u001b[39;49m,\u001b[39m \u001b[39;49m\u001b[39m\"\u001b[39;49m\u001b[39m0\u001b[39;49m\u001b[39m\"\u001b[39;49m)\u001b[39m}\u001b[39;49;00m\u001b[39m'\u001b[39;49m,\n\u001b[1;32m     35\u001b[0m         headers\u001b[39m=\u001b[39;49m{\u001b[39m'\u001b[39;49m\u001b[39mUser-Agent\u001b[39;49m\u001b[39m'\u001b[39;49m: \u001b[39m'\u001b[39;49m\u001b[39mMozilla/5.0 (Macintosh; Intel Mac OS X 10_15_7) AppleWebKit/537.36 (KHTML, like Gecko) Chrome/117.0.0.0 Safari/537.36\u001b[39;49m\u001b[39m'\u001b[39;49m}\n\u001b[1;32m     36\u001b[0m     )\u001b[39m.\u001b[39;49mjson()[\u001b[39m'\u001b[39;49m\u001b[39mgames\u001b[39;49m\u001b[39m'\u001b[39;49m]\n\u001b[1;32m     37\u001b[0m     moves_pattern \u001b[39m=\u001b[39m re\u001b[39m.\u001b[39mcompile(\u001b[39mr\u001b[39m\u001b[39m'\u001b[39m\u001b[39m[0-9]+[\u001b[39m\u001b[39m\\\u001b[39m\u001b[39m.]+ [0-9A-Za-z-#+=]+\u001b[39m\u001b[39m'\u001b[39m)\n\u001b[1;32m     38\u001b[0m     \u001b[39mfor\u001b[39;00m game \u001b[39min\u001b[39;00m games:\n",
      "\u001b[0;31mKeyError\u001b[0m: 'games'"
     ]
    }
   ],
   "source": [
    "# Generate the DataFrame given the chess results, which are already in the form of records.\n",
    "df = DataFrame.from_records(list(chess('TineBerger', 2023, 10)))\n",
    "df[2]"
   ]
  },
  {
   "cell_type": "code",
   "execution_count": null,
   "metadata": {},
   "outputs": [
    {
     "data": {
      "text/plain": [
       "Outcome Count\n",
       "------- -----\n",
       "Win     1040 \n",
       "Lose    999  \n",
       "Draw    154  "
      ]
     },
     "execution_count": 15,
     "metadata": {},
     "output_type": "execute_result"
    }
   ],
   "source": [
    "# Get the breakdown of how many games have been won, lost and drawn.\n",
    "(\n",
    "    df\n",
    "        .group('Outcome')\n",
    "        .apply('Count', len, 'Color')\n",
    "        .select('Outcome', 'Count')\n",
    ")"
   ]
  },
  {
   "cell_type": "code",
   "execution_count": null,
   "metadata": {},
   "outputs": [
    {
     "data": {
      "text/plain": [
       "Opponent    Losses\n",
       "--------    ------\n",
       "scoott33    4     \n",
       "Fabrizio265 3     \n",
       "dryenja     3     \n",
       "drmaj       3     \n",
       "Kaiidlu     3     "
      ]
     },
     "execution_count": 16,
     "metadata": {},
     "output_type": "execute_result"
    }
   ],
   "source": [
    "# Identify the most difficult players.\n",
    "(\n",
    "    df\n",
    "        .filter('Outcome', 'Lose')\n",
    "        .group('Opponent')\n",
    "        .apply('Losses', len, 'Outcome')\n",
    "        .select('Opponent', 'Losses')\n",
    "        .sort('Losses', False)\n",
    "        [:5]\n",
    ")"
   ]
  },
  {
   "cell_type": "code",
   "execution_count": null,
   "metadata": {},
   "outputs": [
    {
     "data": {
      "text/plain": [
       "Opening                        Win Percentage Count\n",
       "-------                        -------------- -----\n",
       "1. Nc3 1... Nf6 2. e4 2... d6  64.58          48   \n",
       "1. Nc3 1... d5 2. e4 2... d4   58.01          181  \n",
       "1. Nc3 1... Nf6 2. e4 2... e5  57.58          66   \n",
       "1. Nc3 1... Nf6 2. e4 2... g6  53.12          32   \n",
       "1. Nc3 1... g6 2. e4 2... Bg7  50.85          59   \n",
       "1. Nc3 1... d5 2. e4 2... dxe4 50.0           64   \n",
       "1. Nc3 1... e5 2. e4 2... Nf6  50.0           62   \n",
       "1. Nc3 1... c6 2. e4 2... d5   45.61          57   \n",
       "1. Nc3 1... c5 2. e4 2... Nc6  44.68          47   \n",
       "1. Nc3 1... e6 2. e4 2... d5   39.47          38   \n",
       "1. Nc3 1... e5 2. e4 2... Nc6  36.21          58   "
      ]
     },
     "execution_count": 17,
     "metadata": {},
     "output_type": "execute_result"
    }
   ],
   "source": [
    "# Identify which openings are most and least successful when playing as white.\n",
    "(\n",
    "    df\n",
    "        .filter('Color', 'White')\n",
    "        .apply('Opening', lambda moves: ' '.join(moves[:4]), 'Moves')\n",
    "        .group('Opening')\n",
    "        .apply('Count', len, 'Outcome')\n",
    "        .apply('Win Rate', lambda outcomes: outcomes.count('Win') / len(outcomes), 'Outcome')                \n",
    "        .apply('Win Percentage', lambda rate: round(100. * rate, 2), 'Win Rate')\n",
    "        .sort('Win Percentage', False)\n",
    "        .apply('Minimum', lambda count: count > 25, 'Count')\n",
    "        .filter('Minimum', True)\n",
    "        .select('Opening', 'Win Percentage', 'Count')\n",
    ")"
   ]
  },
  {
   "cell_type": "code",
   "execution_count": null,
   "metadata": {},
   "outputs": [],
   "source": []
  }
 ],
 "metadata": {
  "kernelspec": {
   "display_name": "Python 3",
   "language": "python",
   "name": "python3"
  },
  "language_info": {
   "codemirror_mode": {
    "name": "ipython",
    "version": 3
   },
   "file_extension": ".py",
   "mimetype": "text/x-python",
   "name": "python",
   "nbconvert_exporter": "python",
   "pygments_lexer": "ipython3",
   "version": "3.9.6"
  }
 },
 "nbformat": 4,
 "nbformat_minor": 2
}
