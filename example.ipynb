{
 "cells": [
  {
   "cell_type": "code",
   "execution_count": 20,
   "metadata": {},
   "outputs": [],
   "source": [
    "from koalas import DataFrame\n",
    "from example import chess"
   ]
  },
  {
   "cell_type": "code",
   "execution_count": 21,
   "metadata": {},
   "outputs": [
    {
     "data": {
      "text/plain": [
       "{'Color': 'Black',\n",
       " 'Moves': ['1. d4',\n",
       "  '1... Nf6',\n",
       "  '2. Nc3',\n",
       "  '2... d5',\n",
       "  '3. Bg5',\n",
       "  '3... Bf5',\n",
       "  '4. Bxf6',\n",
       "  '4... exf6',\n",
       "  '5. e3',\n",
       "  '5... Nc6',\n",
       "  '6. Bd3',\n",
       "  '6... Bxd3',\n",
       "  '7. Qxd3',\n",
       "  '7... Be7',\n",
       "  '8. Nge2',\n",
       "  '8... O-O',\n",
       "  '9. Ng3',\n",
       "  '9... a5',\n",
       "  '10. Nf5',\n",
       "  '10... Nb4',\n",
       "  '11. Qe2',\n",
       "  '11... Qd7',\n",
       "  '12. Qg4',\n",
       "  '12... Qe6',\n",
       "  '13. Qxg7#'],\n",
       " 'Opponent': 'Bradshort21',\n",
       " 'OpponentRating': 1559,\n",
       " 'Outcome': 'Lose',\n",
       " 'Rating': 1606,\n",
       " 'TimeControl': '180'}"
      ]
     },
     "execution_count": 21,
     "metadata": {},
     "output_type": "execute_result"
    }
   ],
   "source": [
    "# Generate the DataFrame given the chess results, which are already in the form of records.\n",
    "df = DataFrame.from_records(list(chess('TineBerger', 2023, 10)))\n",
    "df[2]"
   ]
  },
  {
   "cell_type": "code",
   "execution_count": 22,
   "metadata": {},
   "outputs": [
    {
     "data": {
      "text/plain": [
       "Outcome Count\n",
       "------- -----\n",
       "Win     1040 \n",
       "Lose    999  \n",
       "Draw    154  "
      ]
     },
     "execution_count": 22,
     "metadata": {},
     "output_type": "execute_result"
    }
   ],
   "source": [
    "# Get the breakdown of how many games have been won, lost and drawn.\n",
    "(\n",
    "    df\n",
    "        .group('Outcome')\n",
    "        .apply('Count', len, 'Color')\n",
    "        .select('Outcome', 'Count')\n",
    ")"
   ]
  },
  {
   "cell_type": "code",
   "execution_count": 23,
   "metadata": {},
   "outputs": [
    {
     "data": {
      "text/plain": [
       "Opponent    Losses\n",
       "--------    ------\n",
       "scoott33    4     \n",
       "Fabrizio265 3     \n",
       "dryenja     3     \n",
       "drmaj       3     \n",
       "Kaiidlu     3     "
      ]
     },
     "execution_count": 23,
     "metadata": {},
     "output_type": "execute_result"
    }
   ],
   "source": [
    "# Identify the most difficult players.\n",
    "(\n",
    "    df\n",
    "        .filter('Outcome', 'Lose')\n",
    "        .group('Opponent')\n",
    "        .apply('Losses', len, 'Outcome')\n",
    "        .select('Opponent', 'Losses')\n",
    "        .sort('Losses', False)\n",
    "        [:5]\n",
    ")"
   ]
  },
  {
   "cell_type": "code",
   "execution_count": 24,
   "metadata": {},
   "outputs": [
    {
     "data": {
      "text/plain": [
       "Opening                        Win Percentage Count\n",
       "-------                        -------------- -----\n",
       "1. Nc3 1... Nf6 2. e4 2... d6  64.58          48   \n",
       "1. Nc3 1... d5 2. e4 2... d4   58.01          181  \n",
       "1. Nc3 1... Nf6 2. e4 2... e5  57.58          66   \n",
       "1. Nc3 1... Nf6 2. e4 2... g6  53.12          32   \n",
       "1. Nc3 1... g6 2. e4 2... Bg7  50.85          59   \n",
       "1. Nc3 1... d5 2. e4 2... dxe4 50.0           64   \n",
       "1. Nc3 1... e5 2. e4 2... Nf6  50.0           62   \n",
       "1. Nc3 1... c6 2. e4 2... d5   45.61          57   \n",
       "1. Nc3 1... c5 2. e4 2... Nc6  44.68          47   \n",
       "1. Nc3 1... e6 2. e4 2... d5   39.47          38   \n",
       "1. Nc3 1... e5 2. e4 2... Nc6  36.21          58   "
      ]
     },
     "execution_count": 24,
     "metadata": {},
     "output_type": "execute_result"
    }
   ],
   "source": [
    "# Identify which openings are most and least successful when playing as white.\n",
    "(\n",
    "    df\n",
    "        .filter('Color', 'White')\n",
    "        .apply('Opening', lambda moves: ' '.join(moves[:4]), 'Moves')\n",
    "        .group('Opening')\n",
    "        .apply('Count', len, 'Outcome')\n",
    "        .apply('Win Rate', lambda outcomes: outcomes.count('Win') / len(outcomes), 'Outcome')                \n",
    "        .apply('Win Percentage', lambda rate: round(100. * rate, 2), 'Win Rate')\n",
    "        .sort('Win Percentage', False)\n",
    "        .apply('Minimum', lambda count: count > 25, 'Count')\n",
    "        .filter('Minimum', True)\n",
    "        .select('Opening', 'Win Percentage', 'Count')\n",
    ")"
   ]
  },
  {
   "cell_type": "code",
   "execution_count": null,
   "metadata": {},
   "outputs": [],
   "source": []
  }
 ],
 "metadata": {
  "kernelspec": {
   "display_name": "Python 3",
   "language": "python",
   "name": "python3"
  },
  "language_info": {
   "codemirror_mode": {
    "name": "ipython",
    "version": 3
   },
   "file_extension": ".py",
   "mimetype": "text/x-python",
   "name": "python",
   "nbconvert_exporter": "python",
   "pygments_lexer": "ipython3",
   "version": "3.9.6"
  }
 },
 "nbformat": 4,
 "nbformat_minor": 2
}
