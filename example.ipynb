{
 "cells": [
  {
   "cell_type": "code",
   "execution_count": 1,
   "metadata": {},
   "outputs": [],
   "source": [
    "from koalas import DataFrame\n",
    "from example import chess"
   ]
  },
  {
   "cell_type": "code",
   "execution_count": 2,
   "metadata": {},
   "outputs": [
    {
     "data": {
      "text/plain": [
       "Color Moves                                         Opponent      OpponentRating Outcome Rating TimeControl\n",
       "----- -----                                         --------      -------------- ------- ------ -----------\n",
       "Black ['1. e4', '1... Nf6', '2. Nc3', '2... d5',... alconcha      1576           Draw    1582   180        \n",
       "White ['1. Nc3', '1... g6', '2. e4', '2... Bg7',... Matiafigueroa 1637           Win     1591   180        \n",
       "White ['1. Nc3', '1... d5', '2. e4', '2... d4', ... MadMauriceXIX 1556           Draw    1590   180        "
      ]
     },
     "execution_count": 2,
     "metadata": {},
     "output_type": "execute_result"
    }
   ],
   "source": [
    "# Generate the DataFrame given the chess results, which are already in the form of records.\n",
    "df = DataFrame.from_records(chess('TineBerger', 2023, 9))\n",
    "df[:3]"
   ]
  },
  {
   "cell_type": "code",
   "execution_count": 3,
   "metadata": {},
   "outputs": [
    {
     "data": {
      "text/plain": [
       "Outcome Count\n",
       "------- -----\n",
       "Draw    177  \n",
       "Lose    1307 \n",
       "Win     1361 "
      ]
     },
     "execution_count": 3,
     "metadata": {},
     "output_type": "execute_result"
    }
   ],
   "source": [
    "# Get the breakdown of how many games have been won, lost and drawn.\n",
    "(\n",
    "    df\n",
    "        .group('Outcome')\n",
    "        .apply('Count', len, 'Color')\n",
    "        .select('Outcome', 'Count')\n",
    ")"
   ]
  },
  {
   "cell_type": "code",
   "execution_count": 4,
   "metadata": {},
   "outputs": [
    {
     "data": {
      "text/plain": [
       "Opponent          Losses\n",
       "--------          ------\n",
       "chess_enjoyer03   4     \n",
       "architecturalpain 4     \n",
       "searb             3     \n",
       "arcanatack        3     \n",
       "alwaysplexed      3     "
      ]
     },
     "execution_count": 4,
     "metadata": {},
     "output_type": "execute_result"
    }
   ],
   "source": [
    "# Identify the most difficult players.\n",
    "(\n",
    "    df\n",
    "        .filter('Outcome', 'Lose')\n",
    "        .group('Opponent')\n",
    "        .apply('Losses', len, 'Outcome')\n",
    "        .select('Opponent', 'Losses')\n",
    "        .sort('Losses')\n",
    "        .reverse()\n",
    "        [:5]\n",
    ")"
   ]
  },
  {
   "cell_type": "code",
   "execution_count": 5,
   "metadata": {},
   "outputs": [
    {
     "data": {
      "text/plain": [
       "Opening Win Percentage\n",
       "------- --------------\n",
       "1. e3   50.0          \n",
       "1. e4   48.58         \n",
       "1. d4   45.6          \n",
       "1. Nf3  39.13         \n",
       "1. c4   36.17         "
      ]
     },
     "execution_count": 5,
     "metadata": {},
     "output_type": "execute_result"
    }
   ],
   "source": [
    "# Identify which openings are most and least successful when playing as black.\n",
    "def summary(df):\n",
    "    return (\n",
    "        df\n",
    "            .filter('Color', 'Black')\n",
    "            .apply('Opening', lambda moves: ' '.join(moves[:1]), 'Moves')\n",
    "            .group('Opening')\n",
    "            .apply('Count', len, 'Outcome')\n",
    "            .apply('Win Rate', lambda outcomes: outcomes.count('Win') / len(outcomes), 'Outcome')                \n",
    "            .apply('Win Percentage', lambda rate: round(100. * rate, 2), 'Win Rate')\n",
    "            .sort('Win Percentage')\n",
    "            .reverse()\n",
    "            .apply('Minimum', lambda count: count > 20, 'Count')\n",
    "            .filter('Minimum', True)\n",
    "            .select('Opening', 'Win Percentage')\n",
    "    )\n",
    "summary(df)"
   ]
  },
  {
   "cell_type": "code",
   "execution_count": 6,
   "metadata": {},
   "outputs": [
    {
     "data": {
      "text/plain": [
       "Opening    Win Percentage (Left) Win Percentage (Right) Difference\n",
       "-------    --------------------- ---------------------- ----------\n",
       "('1. d4',) 45.6                  51.4                   5.8       \n",
       "('1. e4',) 48.58                 50.2                   1.62      "
      ]
     },
     "execution_count": 6,
     "metadata": {},
     "output_type": "execute_result"
    }
   ],
   "source": [
    "# Compare opening performance against another player\n",
    "left = summary(df).rename('Win Percentage', 'Win Percentage (Left)')\n",
    "right = summary(DataFrame.from_records(chess('architecturalpain', 2023, 9))).rename('Win Percentage', 'Win Percentage (Right)')\n",
    "comparison = left.join(right, 'Opening').apply('Difference', lambda a, b: round(b - a, 2), 'Win Percentage (Left)', 'Win Percentage (Right)').export('csv', 'performance.csv')\n",
    "comparison"
   ]
  },
  {
   "cell_type": "code",
   "execution_count": null,
   "metadata": {},
   "outputs": [],
   "source": []
  }
 ],
 "metadata": {
  "kernelspec": {
   "display_name": "Python 3",
   "language": "python",
   "name": "python3"
  },
  "language_info": {
   "codemirror_mode": {
    "name": "ipython",
    "version": 3
   },
   "file_extension": ".py",
   "mimetype": "text/x-python",
   "name": "python",
   "nbconvert_exporter": "python",
   "pygments_lexer": "ipython3",
   "version": "3.9.6"
  }
 },
 "nbformat": 4,
 "nbformat_minor": 2
}
