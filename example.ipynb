{
 "cells": [
  {
   "cell_type": "code",
   "execution_count": 1,
   "metadata": {},
   "outputs": [],
   "source": [
    "from koalas import DataFrame\n",
    "from example import chess"
   ]
  },
  {
   "cell_type": "code",
   "execution_count": 2,
   "metadata": {},
   "outputs": [
    {
     "data": {
      "text/plain": [
       "{'Color': 'White',\n",
       " 'Moves': ['1. Nc3',\n",
       "  '1... d5',\n",
       "  '2. e4',\n",
       "  '2... d4',\n",
       "  '3. Nb5',\n",
       "  '3... a6',\n",
       "  '4. Na3',\n",
       "  '4... e5',\n",
       "  '5. Bc4',\n",
       "  '5... Nf6',\n",
       "  '6. Nf3',\n",
       "  '6... Bd6',\n",
       "  '7. h3',\n",
       "  '7... O-O',\n",
       "  '8. O-O',\n",
       "  '8... Nxe4',\n",
       "  '9. d3',\n",
       "  '9... Nf6',\n",
       "  '10. Bg5',\n",
       "  '10... Be7',\n",
       "  '11. Nxe5',\n",
       "  '11... Nbd7',\n",
       "  '12. Nf3',\n",
       "  '12... b5',\n",
       "  '13. Bb3',\n",
       "  '13... Bb7',\n",
       "  '14. Nxd4',\n",
       "  '14... h6',\n",
       "  '15. Bxf6',\n",
       "  '15... Bxf6',\n",
       "  '16. Nf3',\n",
       "  '16... Nc5',\n",
       "  '17. Rb1',\n",
       "  '17... Nxb3',\n",
       "  '18. axb3',\n",
       "  '18... Re8',\n",
       "  '19. c3',\n",
       "  '19... Qd6',\n",
       "  '20. d4',\n",
       "  '20... Bd5',\n",
       "  '21. b4',\n",
       "  '21... Re6',\n",
       "  '22. Re1',\n",
       "  '22... Rae8',\n",
       "  '23. Rxe6',\n",
       "  '23... Rxe6',\n",
       "  '24. Ne5',\n",
       "  '24... Bxe5',\n",
       "  '25. dxe5',\n",
       "  '25... Qxe5',\n",
       "  '26. Qd4',\n",
       "  '26... Qg5',\n",
       "  '27. Qg4',\n",
       "  '27... Qd2',\n",
       "  '28. c4',\n",
       "  '28... bxc4',\n",
       "  '29. Nxc4',\n",
       "  '29... Bxc4',\n",
       "  '30. Qxc4',\n",
       "  '30... Re1+',\n",
       "  '31. Rxe1',\n",
       "  '31... Qxe1+',\n",
       "  '32. Kh2',\n",
       "  '32... Qe5+',\n",
       "  '33. f4',\n",
       "  '33... Qxb2',\n",
       "  '34. Qxc7',\n",
       "  '34... Qxb4',\n",
       "  '35. Qd8+',\n",
       "  '35... Kh7',\n",
       "  '36. Qd3+',\n",
       "  '36... g6',\n",
       "  '37. Qxa6',\n",
       "  '37... Qxf4+',\n",
       "  '38. Kg1',\n",
       "  '38... Kg7',\n",
       "  '39. Qa1+',\n",
       "  '39... Qf6',\n",
       "  '40. Qxf6+',\n",
       "  '40... Kxf6',\n",
       "  '41. Kf2',\n",
       "  '41... Ke5',\n",
       "  '42. Kf3',\n",
       "  '42... f5',\n",
       "  '43. g4',\n",
       "  '43... fxg4+',\n",
       "  '44. hxg4',\n",
       "  '44... h5',\n",
       "  '45. gxh5',\n",
       "  '45... gxh5',\n",
       "  '46. Kg3',\n",
       "  '46... Kf5',\n",
       "  '47. Kh4',\n",
       "  '47... Kg6',\n",
       "  '48. Kg3'],\n",
       " 'Opponent': 'MadMauriceXIX',\n",
       " 'OpponentRating': 1556,\n",
       " 'Outcome': 'Draw',\n",
       " 'Rating': 1590,\n",
       " 'TimeControl': '180'}"
      ]
     },
     "execution_count": 2,
     "metadata": {},
     "output_type": "execute_result"
    }
   ],
   "source": [
    "# Generate the DataFrame given the chess results, which are already in the form of records.\n",
    "df = DataFrame.from_records(chess('TineBerger', 2023, 9))\n",
    "df[2]"
   ]
  },
  {
   "cell_type": "code",
   "execution_count": 3,
   "metadata": {},
   "outputs": [
    {
     "data": {
      "text/plain": [
       "Outcome Count\n",
       "------- -----\n",
       "Draw    177  \n",
       "Lose    1307 \n",
       "Win     1361 "
      ]
     },
     "execution_count": 3,
     "metadata": {},
     "output_type": "execute_result"
    }
   ],
   "source": [
    "# Get the breakdown of how many games have been won, lost and drawn.\n",
    "(\n",
    "    df\n",
    "        .group('Outcome')\n",
    "        .apply('Count', len, 'Color')\n",
    "        .select('Outcome', 'Count')\n",
    ")"
   ]
  },
  {
   "cell_type": "code",
   "execution_count": 4,
   "metadata": {},
   "outputs": [
    {
     "data": {
      "text/plain": [
       "Opponent          Losses\n",
       "--------          ------\n",
       "architecturalpain 4     \n",
       "chess_enjoyer03   4     \n",
       "DaiLongDa888      3     \n",
       "Lightyagami322311 3     \n",
       "Martia-Loup       3     "
      ]
     },
     "execution_count": 4,
     "metadata": {},
     "output_type": "execute_result"
    }
   ],
   "source": [
    "# Identify the most difficult players.\n",
    "(\n",
    "    df\n",
    "        .filter('Outcome', 'Lose')\n",
    "        .group('Opponent')\n",
    "        .apply('Losses', len, 'Outcome')\n",
    "        .select('Opponent', 'Losses')\n",
    "        .sort('Losses', ascending=False)\n",
    "        [:5]\n",
    ")"
   ]
  },
  {
   "cell_type": "code",
   "execution_count": 5,
   "metadata": {},
   "outputs": [
    {
     "data": {
      "text/plain": [
       "Opening Win Percentage\n",
       "------- --------------\n",
       "1. e3   50.0          \n",
       "1. e4   48.58         \n",
       "1. d4   45.6          \n",
       "1. Nf3  39.13         \n",
       "1. c4   36.17         "
      ]
     },
     "execution_count": 5,
     "metadata": {},
     "output_type": "execute_result"
    }
   ],
   "source": [
    "# Identify which openings are most and least successful when playing as black.\n",
    "def summary(df):\n",
    "    return (\n",
    "        df\n",
    "            .filter('Color', 'Black')\n",
    "            .apply('Opening', lambda moves: ' '.join(moves[:1]), 'Moves')\n",
    "            .group('Opening')\n",
    "            .apply('Count', len, 'Outcome')\n",
    "            .apply('Win Rate', lambda outcomes: outcomes.count('Win') / len(outcomes), 'Outcome')                \n",
    "            .apply('Win Percentage', lambda rate: round(100. * rate, 2), 'Win Rate')\n",
    "            .sort('Win Percentage', ascending=False)\n",
    "            .apply('Minimum', lambda count: count > 20, 'Count')\n",
    "            .filter('Minimum', True)\n",
    "            .select('Opening', 'Win Percentage')\n",
    "    )\n",
    "summary(df)"
   ]
  },
  {
   "cell_type": "code",
   "execution_count": 6,
   "metadata": {},
   "outputs": [
    {
     "ename": "NameError",
     "evalue": "name 'opening_performance' is not defined",
     "output_type": "error",
     "traceback": [
      "\u001b[0;31m---------------------------------------------------------------------------\u001b[0m",
      "\u001b[0;31mNameError\u001b[0m                                 Traceback (most recent call last)",
      "\u001b[1;32m/Users/matteo/Desktop/koalas/example.ipynb Cell 6\u001b[0m line \u001b[0;36m2\n\u001b[1;32m      <a href='vscode-notebook-cell:/Users/matteo/Desktop/koalas/example.ipynb#X12sZmlsZQ%3D%3D?line=0'>1</a>\u001b[0m \u001b[39m# Compare opening performance against another player\u001b[39;00m\n\u001b[0;32m----> <a href='vscode-notebook-cell:/Users/matteo/Desktop/koalas/example.ipynb#X12sZmlsZQ%3D%3D?line=1'>2</a>\u001b[0m left \u001b[39m=\u001b[39m opening_performance(df)\u001b[39m.\u001b[39mrename(\u001b[39m'\u001b[39m\u001b[39mWin Percentage\u001b[39m\u001b[39m'\u001b[39m, \u001b[39m'\u001b[39m\u001b[39mWin Percentage (Left)\u001b[39m\u001b[39m'\u001b[39m)\n\u001b[1;32m      <a href='vscode-notebook-cell:/Users/matteo/Desktop/koalas/example.ipynb#X12sZmlsZQ%3D%3D?line=2'>3</a>\u001b[0m right \u001b[39m=\u001b[39m opening_performance(DataFrame\u001b[39m.\u001b[39mfrom_records(chess(\u001b[39m'\u001b[39m\u001b[39marchitecturalpain\u001b[39m\u001b[39m'\u001b[39m, \u001b[39m2023\u001b[39m, \u001b[39m9\u001b[39m)))\u001b[39m.\u001b[39mrename(\u001b[39m'\u001b[39m\u001b[39mWin Percentage\u001b[39m\u001b[39m'\u001b[39m, \u001b[39m'\u001b[39m\u001b[39mWin Percentage (Right)\u001b[39m\u001b[39m'\u001b[39m)\n\u001b[1;32m      <a href='vscode-notebook-cell:/Users/matteo/Desktop/koalas/example.ipynb#X12sZmlsZQ%3D%3D?line=3'>4</a>\u001b[0m comparison \u001b[39m=\u001b[39m left\u001b[39m.\u001b[39mjoin(right, \u001b[39m'\u001b[39m\u001b[39mOpening\u001b[39m\u001b[39m'\u001b[39m)\u001b[39m.\u001b[39mapply(\u001b[39m'\u001b[39m\u001b[39mDifference\u001b[39m\u001b[39m'\u001b[39m, \u001b[39mlambda\u001b[39;00m a, b: \u001b[39mround\u001b[39m(b \u001b[39m-\u001b[39m a, \u001b[39m2\u001b[39m), \u001b[39m'\u001b[39m\u001b[39mWin Percentage (Left)\u001b[39m\u001b[39m'\u001b[39m, \u001b[39m'\u001b[39m\u001b[39mWin Percentage (Right)\u001b[39m\u001b[39m'\u001b[39m)        \n",
      "\u001b[0;31mNameError\u001b[0m: name 'opening_performance' is not defined"
     ]
    }
   ],
   "source": [
    "# Compare opening performance against another player\n",
    "left = summary(df).rename('Win Percentage', 'Win Percentage (Left)')\n",
    "right = summary(DataFrame.from_records(chess('architecturalpain', 2023, 9))).rename('Win Percentage', 'Win Percentage (Right)')\n",
    "comparison = left.join(right, 'Opening').apply('Difference', lambda a, b: round(b - a, 2), 'Win Percentage (Left)', 'Win Percentage (Right)')        \n",
    "comparison"
   ]
  },
  {
   "cell_type": "code",
   "execution_count": null,
   "metadata": {},
   "outputs": [],
   "source": []
  }
 ],
 "metadata": {
  "kernelspec": {
   "display_name": "Python 3",
   "language": "python",
   "name": "python3"
  },
  "language_info": {
   "codemirror_mode": {
    "name": "ipython",
    "version": 3
   },
   "file_extension": ".py",
   "mimetype": "text/x-python",
   "name": "python",
   "nbconvert_exporter": "python",
   "pygments_lexer": "ipython3",
   "version": "3.9.6"
  }
 },
 "nbformat": 4,
 "nbformat_minor": 2
}
